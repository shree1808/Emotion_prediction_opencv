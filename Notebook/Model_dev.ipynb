{
 "cells": [
  {
   "cell_type": "code",
   "execution_count": 1,
   "metadata": {},
   "outputs": [],
   "source": [
    "from tensorflow.keras.preprocessing.image import ImageDataGenerator\n",
    "import tensorflow as tf\n",
    "import cv2\n",
    "import numpy as np\n",
    "import pandas as pd"
   ]
  },
  {
   "cell_type": "code",
   "execution_count": null,
   "metadata": {},
   "outputs": [],
   "source": [
    "train_dir = 'train_and_validation_dir\\train'\n",
    "validation_dir = 'train_and_validation_dir\\val'"
   ]
  },
  {
   "cell_type": "code",
   "execution_count": 1,
   "metadata": {},
   "outputs": [],
   "source": [
    "def create_data_generators(train_dir, val_dir, target_size = (224,224), batch_size = 32):\n",
    "\n",
    "    train_data_generator = ImageDataGenerator(\n",
    "        rescale = 1./255,\n",
    "        rotation_range = 40,\n",
    "        height_shift_range = 0.2, \n",
    "        width_shift_range = 0.2,\n",
    "        shear_range = 0.2,\n",
    "        zoom_range = 0.2,\n",
    "        horizontal_flip = True,\n",
    "        fill_mode = 'nearest' \n",
    "    )\n",
    "\n",
    "    validation_data_generator = ImageDataGenerator(\n",
    "        rescale = 1./255\n",
    "    )\n",
    "\n",
    "    train_generator = train_data_generator.flow_from_directory(\n",
    "        train_dir,\n",
    "        target_size = target_size,\n",
    "        batch_size = batch_size,\n",
    "        class_mode = 'categorical'\n",
    "    )\n",
    "\n",
    "\n",
    "    validation_generator = validation_data_generator.flow_data_directory(\n",
    "        val_dir,\n",
    "        target_size = target_size,\n",
    "        batch_size = batch_size,\n",
    "        class_mode = 'categorical'\n",
    "    )\n",
    "\n",
    "    return train_generator , validation_generator\n",
    "\n",
    "train_data_generator, validation_data_generator = create_data_generators(train_dir, validation_dir)"
   ]
  },
  {
   "cell_type": "code",
   "execution_count": null,
   "metadata": {},
   "outputs": [],
   "source": [
    "from tensorflow.keras.applications import ResNet50\n",
    "from tensorflow.keras.layers import Dense, Activation, Flatten \n",
    "from tensorflow.keras.models import Model"
   ]
  },
  {
   "cell_type": "code",
   "execution_count": null,
   "metadata": {},
   "outputs": [],
   "source": [
    "????????????????????????????????????????"
   ]
  },
  {
   "cell_type": "code",
   "execution_count": null,
   "metadata": {},
   "outputs": [],
   "source": []
  },
  {
   "cell_type": "code",
   "execution_count": null,
   "metadata": {},
   "outputs": [],
   "source": []
  }
 ],
 "metadata": {
  "kernelspec": {
   "display_name": "opencv_env",
   "language": "python",
   "name": "python3"
  },
  "language_info": {
   "codemirror_mode": {
    "name": "ipython",
    "version": 3
   },
   "file_extension": ".py",
   "mimetype": "text/x-python",
   "name": "python",
   "nbconvert_exporter": "python",
   "pygments_lexer": "ipython3",
   "version": "3.9.19"
  }
 },
 "nbformat": 4,
 "nbformat_minor": 2
}
